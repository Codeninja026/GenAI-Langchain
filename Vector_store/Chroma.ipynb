{
 "cells": [
  {
   "cell_type": "code",
   "execution_count": 1,
   "id": "e207a0e3-1581-45f2-9155-cd61eef03d63",
   "metadata": {},
   "outputs": [],
   "source": [
    "from langchain_chroma import Chroma"
   ]
  },
  {
   "cell_type": "code",
   "execution_count": 2,
   "id": "6782ae41-6fb0-4b06-ae15-8fdf14ef0ee3",
   "metadata": {},
   "outputs": [],
   "source": [
    "from langchain.schema import Document"
   ]
  },
  {
   "cell_type": "code",
   "execution_count": 3,
   "id": "7e5d0076-a067-46db-9294-0efe59631f7a",
   "metadata": {},
   "outputs": [],
   "source": [
    "\n",
    "doc1 = Document(\n",
    "    page_content='''\n",
    "    Virat Kohli – Known as the “Run Machine,” \n",
    "    Virat is one of the most consistent batsmen in the world, \n",
    "    admired for his aggressive batting style and match-winning performances across formats.''',\n",
    "    metadata={'team': 'RCB'}\n",
    ")\n",
    "\n",
    "doc2 = Document(\n",
    "    page_content='''\n",
    "    Rohit Sharma – The “Hitman” of Indian cricket, \n",
    "    Rohit is famous for his elegant batting, ability to score big hundreds, \n",
    "    and holding the record for the highest individual ODI score (264).''',\n",
    "    metadata={'team': 'MI'}\n",
    ")\n",
    "\n",
    "doc3 = Document(\n",
    "    page_content='''\n",
    "    Jasprit Bumrah – A world-class fast bowler with a unique action, \n",
    "    Bumrah is known for his deadly yorkers, pinpoint accuracy, \n",
    "    and match-winning spells in all formats.''',\n",
    "    metadata={'team': 'MI'}\n",
    ")\n",
    "\n",
    "doc4 = Document(\n",
    "    page_content='''\n",
    "    Ravindra Jadeja – A true all-rounder, \n",
    "    Jadeja is valued for his explosive batting, accurate left-arm spin bowling, \n",
    "    and exceptional fielding skills.''',\n",
    "    metadata={'team': 'CSK'}\n",
    ")\n"
   ]
  },
  {
   "cell_type": "code",
   "execution_count": 4,
   "id": "834dc08c-a820-4cc4-893d-17feb513a883",
   "metadata": {},
   "outputs": [],
   "source": [
    "from langchain_community.embeddings import HuggingFaceEmbeddings"
   ]
  },
  {
   "cell_type": "code",
   "execution_count": 5,
   "id": "986ea568-0ae1-4a61-b7f8-a7e44f1cddde",
   "metadata": {},
   "outputs": [
    {
     "name": "stderr",
     "output_type": "stream",
     "text": [
      "C:\\Users\\lekka\\AppData\\Local\\Temp\\ipykernel_8492\\2853343627.py:2: LangChainDeprecationWarning: The class `HuggingFaceEmbeddings` was deprecated in LangChain 0.2.2 and will be removed in 1.0. An updated version of the class exists in the :class:`~langchain-huggingface package and should be used instead. To use it run `pip install -U :class:`~langchain-huggingface` and import as `from :class:`~langchain_huggingface import HuggingFaceEmbeddings``.\n",
      "  embedding_function= HuggingFaceEmbeddings(model_name=\"all-MiniLM-L6-v2\"),\n"
     ]
    }
   ],
   "source": [
    "vs = Chroma(\n",
    "    embedding_function= HuggingFaceEmbeddings(model_name=\"all-MiniLM-L6-v2\"),\n",
    "    #directory to store\n",
    "    persist_directory = 'chroma-db-created',\n",
    "    collection_name='sample'\n",
    ")"
   ]
  },
  {
   "cell_type": "code",
   "execution_count": 6,
   "id": "223cf8c0-ab06-4694-96a3-e04cd3229055",
   "metadata": {},
   "outputs": [],
   "source": [
    "docs = [doc1,doc2,doc3,doc4]"
   ]
  },
  {
   "cell_type": "code",
   "execution_count": 7,
   "id": "15685b40-40c0-42fb-a53c-13db7b1741d8",
   "metadata": {},
   "outputs": [
    {
     "data": {
      "text/plain": [
       "['ab12596c-cb28-4365-8370-1d13a6bbd856',\n",
       " '70981c68-5665-4808-a54e-d9c97a8531e6',\n",
       " 'a8951195-69b6-45c0-9122-43006e52ea60',\n",
       " 'aee21396-4734-43a3-912d-ed5b8d9bb5ab']"
      ]
     },
     "execution_count": 7,
     "metadata": {},
     "output_type": "execute_result"
    }
   ],
   "source": [
    "vs.add_documents(docs)"
   ]
  },
  {
   "cell_type": "markdown",
   "id": "b0e7dbbf-58df-4a13-a132-a5d15a9788da",
   "metadata": {},
   "source": [
    "<!-- ['ab12596c-cb28-4365-8370-1d13a6bbd856',\n",
    " '70981c68-5665-4808-a54e-d9c97a8531e6',\n",
    " 'a8951195-69b6-45c0-9122-43006e52ea60',\n",
    " 'aee21396-4734-43a3-912d-ed5b8d9bb5ab'] -->"
   ]
  },
  {
   "cell_type": "code",
   "execution_count": 10,
   "id": "2aa48e8e-0ed0-4290-aed5-c9817342f093",
   "metadata": {},
   "outputs": [
    {
     "data": {
      "text/plain": [
       "{'ids': ['ab12596c-cb28-4365-8370-1d13a6bbd856',\n",
       "  '70981c68-5665-4808-a54e-d9c97a8531e6',\n",
       "  'a8951195-69b6-45c0-9122-43006e52ea60',\n",
       "  'aee21396-4734-43a3-912d-ed5b8d9bb5ab'],\n",
       " 'embeddings': array([[ 0.03101856,  0.09696905, -0.09267526, ..., -0.0657092 ,\n",
       "          0.07973398,  0.01059875],\n",
       "        [ 0.06148205,  0.03313651, -0.10538162, ..., -0.03063969,\n",
       "         -0.0005053 ,  0.00797402],\n",
       "        [ 0.01353442, -0.02332489, -0.05451009, ..., -0.09496049,\n",
       "          0.00836866,  0.12527466],\n",
       "        [ 0.00501741,  0.0428577 , -0.04647219, ..., -0.11968888,\n",
       "         -0.05092554,  0.01488515]], shape=(4, 384)),\n",
       " 'documents': ['\\n    Virat Kohli – Known as the “Run Machine,” \\n    Virat is one of the most consistent batsmen in the world, \\n    admired for his aggressive batting style and match-winning performances across formats.',\n",
       "  '\\n    Rohit Sharma – The “Hitman” of Indian cricket, \\n    Rohit is famous for his elegant batting, ability to score big hundreds, \\n    and holding the record for the highest individual ODI score (264).',\n",
       "  '\\n    Jasprit Bumrah – A world-class fast bowler with a unique action, \\n    Bumrah is known for his deadly yorkers, pinpoint accuracy, \\n    and match-winning spells in all formats.',\n",
       "  '\\n    Ravindra Jadeja – A true all-rounder, \\n    Jadeja is valued for his explosive batting, accurate left-arm spin bowling, \\n    and exceptional fielding skills.'],\n",
       " 'uris': None,\n",
       " 'included': ['embeddings', 'documents', 'metadatas'],\n",
       " 'data': None,\n",
       " 'metadatas': [{'team': 'RCB'},\n",
       "  {'team': 'MI'},\n",
       "  {'team': 'MI'},\n",
       "  {'team': 'CSK'}]}"
      ]
     },
     "execution_count": 10,
     "metadata": {},
     "output_type": "execute_result"
    }
   ],
   "source": [
    "vs.get(include=['embeddings','documents','metadatas'])"
   ]
  },
  {
   "cell_type": "code",
   "execution_count": 15,
   "id": "d296c0a5-6298-47fe-aeb5-dbb05a5ccfb9",
   "metadata": {},
   "outputs": [
    {
     "data": {
      "text/plain": [
       "[Document(id='70981c68-5665-4808-a54e-d9c97a8531e6', metadata={'team': 'MI'}, page_content='\\n    Rohit Sharma – The “Hitman” of Indian cricket, \\n    Rohit is famous for his elegant batting, ability to score big hundreds, \\n    and holding the record for the highest individual ODI score (264).'),\n",
       " Document(id='ab12596c-cb28-4365-8370-1d13a6bbd856', metadata={'team': 'RCB'}, page_content='\\n    Virat Kohli – Known as the “Run Machine,” \\n    Virat is one of the most consistent batsmen in the world, \\n    admired for his aggressive batting style and match-winning performances across formats.')]"
      ]
     },
     "execution_count": 15,
     "metadata": {},
     "output_type": "execute_result"
    }
   ],
   "source": [
    "vs.similarity_search(\n",
    "    query='who is best batsman?',\n",
    "    #how many similar objects may appear\n",
    "    k=2\n",
    ")"
   ]
  },
  {
   "cell_type": "code",
   "execution_count": 19,
   "id": "0083c0c7-49f2-49e0-9d5e-e0a64a424dce",
   "metadata": {},
   "outputs": [
    {
     "data": {
      "text/plain": [
       "[(Document(id='70981c68-5665-4808-a54e-d9c97a8531e6', metadata={'team': 'MI'}, page_content='\\n    Rohit Sharma – The “Hitman” of Indian cricket, \\n    Rohit is famous for his elegant batting, ability to score big hundreds, \\n    and holding the record for the highest individual ODI score (264).'),\n",
       "  0.820034384727478),\n",
       " (Document(id='ab12596c-cb28-4365-8370-1d13a6bbd856', metadata={'team': 'RCB'}, page_content='\\n    Virat Kohli – Known as the “Run Machine,” \\n    Virat is one of the most consistent batsmen in the world, \\n    admired for his aggressive batting style and match-winning performances across formats.'),\n",
       "  0.8626238107681274)]"
      ]
     },
     "execution_count": 19,
     "metadata": {},
     "output_type": "execute_result"
    }
   ],
   "source": [
    "vs.similarity_search_with_score(\n",
    "    query='who is best batsman?',\n",
    "    #how many similar objects may appear\n",
    "    k=2\n",
    ")"
   ]
  },
  {
   "cell_type": "code",
   "execution_count": 20,
   "id": "6b296d63-2883-461a-a449-550af67fa74c",
   "metadata": {},
   "outputs": [],
   "source": [
    "#add some data on existing data "
   ]
  },
  {
   "cell_type": "code",
   "execution_count": 23,
   "id": "e2178483-a60b-4931-872e-31a982ffcf68",
   "metadata": {},
   "outputs": [],
   "source": [
    "new_doc = Document(\n",
    "    page_content='virat kohli is the captain of RCB ',\n",
    "    metadata = {'team':'RCB'}\n",
    ")"
   ]
  },
  {
   "cell_type": "code",
   "execution_count": 24,
   "id": "f44225a3-917e-4c3d-ab10-11325f054f00",
   "metadata": {},
   "outputs": [],
   "source": [
    "vs.update_document(document_id='ab12596c-cb28-4365-8370-1d13a6bbd856',document=new_doc)"
   ]
  },
  {
   "cell_type": "code",
   "execution_count": 26,
   "id": "11298cd3-f170-4830-b97e-14254f5bc990",
   "metadata": {},
   "outputs": [
    {
     "data": {
      "text/plain": [
       "[Document(id='ab12596c-cb28-4365-8370-1d13a6bbd856', metadata={'team': 'RCB'}, page_content='virat kohli is the captain of RCB ')]"
      ]
     },
     "execution_count": 26,
     "metadata": {},
     "output_type": "execute_result"
    }
   ],
   "source": [
    "vs.similarity_search(\n",
    "    query='who is captain of RCB',\n",
    "    k=1\n",
    ")"
   ]
  },
  {
   "cell_type": "code",
   "execution_count": 27,
   "id": "5f93c49c-1168-47fc-86f5-d192925f05d3",
   "metadata": {},
   "outputs": [],
   "source": [
    "vs.delete(ids=['aee21396-4734-43a3-912d-ed5b8d9bb5ab'])"
   ]
  },
  {
   "cell_type": "code",
   "execution_count": 30,
   "id": "e54a7d1c-d931-4ae7-833d-56beb9b2afe1",
   "metadata": {},
   "outputs": [
    {
     "data": {
      "text/plain": [
       "{'ids': ['ab12596c-cb28-4365-8370-1d13a6bbd856',\n",
       "  '70981c68-5665-4808-a54e-d9c97a8531e6',\n",
       "  'a8951195-69b6-45c0-9122-43006e52ea60'],\n",
       " 'embeddings': array([[-0.02296758,  0.09286902, -0.08985404, ..., -0.00612818,\n",
       "          0.07119832, -0.06337535],\n",
       "        [ 0.06148205,  0.03313651, -0.10538162, ..., -0.03063969,\n",
       "         -0.0005053 ,  0.00797402],\n",
       "        [ 0.01353442, -0.02332489, -0.05451009, ..., -0.09496049,\n",
       "          0.00836866,  0.12527466]], shape=(3, 384)),\n",
       " 'documents': ['virat kohli is the captain of RCB ',\n",
       "  '\\n    Rohit Sharma – The “Hitman” of Indian cricket, \\n    Rohit is famous for his elegant batting, ability to score big hundreds, \\n    and holding the record for the highest individual ODI score (264).',\n",
       "  '\\n    Jasprit Bumrah – A world-class fast bowler with a unique action, \\n    Bumrah is known for his deadly yorkers, pinpoint accuracy, \\n    and match-winning spells in all formats.'],\n",
       " 'uris': None,\n",
       " 'included': ['embeddings', 'documents', 'metadatas'],\n",
       " 'data': None,\n",
       " 'metadatas': [{'team': 'RCB'}, {'team': 'MI'}, {'team': 'MI'}]}"
      ]
     },
     "execution_count": 30,
     "metadata": {},
     "output_type": "execute_result"
    }
   ],
   "source": [
    "vs.get(include=['embeddings','documents','metadatas'])"
   ]
  },
  {
   "cell_type": "code",
   "execution_count": null,
   "id": "6bb4baff-58f8-4800-a6c8-08c2e520e571",
   "metadata": {},
   "outputs": [],
   "source": []
  }
 ],
 "metadata": {
  "kernelspec": {
   "display_name": "Python 3 (ipykernel)",
   "language": "python",
   "name": "python3"
  },
  "language_info": {
   "codemirror_mode": {
    "name": "ipython",
    "version": 3
   },
   "file_extension": ".py",
   "mimetype": "text/x-python",
   "name": "python",
   "nbconvert_exporter": "python",
   "pygments_lexer": "ipython3",
   "version": "3.11.0"
  }
 },
 "nbformat": 4,
 "nbformat_minor": 5
}
