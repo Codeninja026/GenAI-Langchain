{
 "cells": [
  {
   "cell_type": "code",
   "execution_count": 1,
   "id": "b718fa50-1b13-4c8a-9499-527965eb35e0",
   "metadata": {},
   "outputs": [],
   "source": [
    "from langchain_core.tools import tool"
   ]
  },
  {
   "cell_type": "code",
   "execution_count": 2,
   "id": "e769f296-5925-4e04-8594-ca5d8e2a2e10",
   "metadata": {},
   "outputs": [],
   "source": [
    "import requests"
   ]
  },
  {
   "cell_type": "code",
   "execution_count": 3,
   "id": "c0d559fe-eccb-44df-89c5-b5a165af9f03",
   "metadata": {},
   "outputs": [],
   "source": [
    "from langchain_core.tools import InjectedToolArg\n",
    "from typing import Annotated"
   ]
  },
  {
   "cell_type": "code",
   "execution_count": 4,
   "id": "f8c6f89e-dec7-4d2a-b29a-b6ce690ff023",
   "metadata": {},
   "outputs": [],
   "source": [
    "\n",
    "@tool \n",
    "def conv_fact(base_curr:str,target_curr:str)->float:\n",
    "    '''this function is used to fetch the currency conversion \n",
    "    factor between base currency and target currency'''\n",
    "    url = f\"https://v6.exchangerate-api.com/v6/9c322631415235554a6c9be7/pair/{base_curr}/{target_curr}\"\n",
    "    response = requests.get(url)\n",
    "    if response.status_code != 200:\n",
    "        print(\"Error fetching data:\", response.status_code, response.text)\n",
    "        return {\"error\": \"Failed to fetch conversion rate\"}\n",
    "    return response.json()\n",
    "\n",
    "@tool\n",
    "def conv(base_curr:int,conversion_rate:Annotated[float,InjectedToolArg])->float:\n",
    "    #this enables to fill the conv_rate by user only not llm pre trained value\n",
    "    '''given a currency conversion rate this function caluclates the \n",
    "    target currency value from the base currency value'''\n",
    "\n",
    "    return base_curr* conversion_rate"
   ]
  },
  {
   "cell_type": "code",
   "execution_count": 5,
   "id": "26bcafff-d053-4428-acf8-6d2354da6810",
   "metadata": {},
   "outputs": [
    {
     "data": {
      "text/plain": [
       "427.5"
      ]
     },
     "execution_count": 5,
     "metadata": {},
     "output_type": "execute_result"
    }
   ],
   "source": [
    "conv.invoke({'base_curr':5,'conversion_rate':85.5})"
   ]
  },
  {
   "cell_type": "code",
   "execution_count": 6,
   "id": "0f35e932-4695-4e9a-8187-82a15f5e0f0e",
   "metadata": {},
   "outputs": [],
   "source": [
    "from langchain_ollama import ChatOllama"
   ]
  },
  {
   "cell_type": "code",
   "execution_count": 7,
   "id": "1d5390d1-84ce-44a3-a155-12984c6155a6",
   "metadata": {},
   "outputs": [],
   "source": [
    "model = ChatOllama(\n",
    "    model='qwen2.5:3b'\n",
    ")"
   ]
  },
  {
   "cell_type": "code",
   "execution_count": 8,
   "id": "beb5c490-b8c8-4b64-9923-123eb73c9cc7",
   "metadata": {},
   "outputs": [],
   "source": [
    "llm_with_tools = model.bind_tools([conv_fact,conv])"
   ]
  },
  {
   "cell_type": "code",
   "execution_count": 9,
   "id": "9633b2b3-cc59-4628-bb6b-4ec50956c6ca",
   "metadata": {},
   "outputs": [],
   "source": [
    "from langchain_core.messages import HumanMessage"
   ]
  },
  {
   "cell_type": "code",
   "execution_count": 10,
   "id": "89331182-7ded-46cc-8fbd-329870347b3d",
   "metadata": {},
   "outputs": [],
   "source": [
    "messages = [HumanMessage('what is the conversion factor between USD to INR and convert 50 USD to INR')]"
   ]
  },
  {
   "cell_type": "code",
   "execution_count": 11,
   "id": "396cedb8-0d7b-4825-8c9a-3b1ebd2f16ad",
   "metadata": {},
   "outputs": [],
   "source": [
    "ai_msg = llm_with_tools.invoke(messages)"
   ]
  },
  {
   "cell_type": "code",
   "execution_count": 12,
   "id": "d33277c2-571f-4a0c-99e4-5f9cdf0b3b51",
   "metadata": {},
   "outputs": [],
   "source": [
    "messages.append(ai_msg)"
   ]
  },
  {
   "cell_type": "code",
   "execution_count": 13,
   "id": "6bb6cd05-df95-40b0-878b-def67adadea3",
   "metadata": {},
   "outputs": [
    {
     "data": {
      "text/plain": [
       "[{'name': 'conv_fact',\n",
       "  'args': {'base_curr': 'USD', 'target_curr': 'INR'},\n",
       "  'id': 'a8ac2ef6-fa1a-4498-9f1f-6eb206063b76',\n",
       "  'type': 'tool_call'},\n",
       " {'name': 'conv',\n",
       "  'args': {'base_curr': 50},\n",
       "  'id': 'eb9b10b2-fcd4-4728-a463-5aa8788e65af',\n",
       "  'type': 'tool_call'}]"
      ]
     },
     "execution_count": 13,
     "metadata": {},
     "output_type": "execute_result"
    }
   ],
   "source": [
    "ai_msg.tool_calls"
   ]
  },
  {
   "cell_type": "code",
   "execution_count": 14,
   "id": "778238f3-5f75-43f2-afc8-cd729e8bc114",
   "metadata": {},
   "outputs": [
    {
     "name": "stdout",
     "output_type": "stream",
     "text": [
      "{'name': 'conv_fact', 'args': {'base_curr': 'USD', 'target_curr': 'INR'}, 'id': 'a8ac2ef6-fa1a-4498-9f1f-6eb206063b76', 'type': 'tool_call'}\n"
     ]
    }
   ],
   "source": [
    "import json\n",
    "for tool_call in ai_msg.tool_calls:\n",
    "    if tool_call['name'] == 'conv_fact':\n",
    "        print(tool_call)\n",
    "        tool_message1 = conv_fact.invoke(tool_call)\n",
    "        conv_rate = json.loads(tool_message1.content)['conversion_rate']\n",
    "        messages.append(tool_message1)\n",
    "\n",
    "    if tool_call['name'] == 'conv':\n",
    "        tool_call['args']['conversion_rate'] = conv_rate\n",
    "        messages.append(conv.invoke(tool_call))\n",
    "        \n",
    "    \n",
    "   "
   ]
  },
  {
   "cell_type": "code",
   "execution_count": 15,
   "id": "c7fc3155-03a9-4291-8b03-62df237f6f96",
   "metadata": {},
   "outputs": [
    {
     "data": {
      "text/plain": [
       "[HumanMessage(content='what is the conversion factor between USD to INR and convert 50 USD to INR', additional_kwargs={}, response_metadata={}),\n",
       " AIMessage(content='', additional_kwargs={}, response_metadata={'model': 'qwen2.5:3b', 'created_at': '2025-09-18T18:23:29.5856782Z', 'done': True, 'done_reason': 'stop', 'total_duration': 62394041500, 'load_duration': 31084483700, 'prompt_eval_count': 265, 'prompt_eval_duration': 21706120900, 'eval_count': 74, 'eval_duration': 9598835500, 'model_name': 'qwen2.5:3b'}, id='run--b562da5d-6d51-4b96-b34e-d405f28918fc-0', tool_calls=[{'name': 'conv_fact', 'args': {'base_curr': 'USD', 'target_curr': 'INR'}, 'id': 'a8ac2ef6-fa1a-4498-9f1f-6eb206063b76', 'type': 'tool_call'}, {'name': 'conv', 'args': {'base_curr': 50, 'conversion_rate': 87.861}, 'id': 'eb9b10b2-fcd4-4728-a463-5aa8788e65af', 'type': 'tool_call'}], usage_metadata={'input_tokens': 265, 'output_tokens': 74, 'total_tokens': 339}),\n",
       " ToolMessage(content='{\"result\": \"success\", \"documentation\": \"https://www.exchangerate-api.com/docs\", \"terms_of_use\": \"https://www.exchangerate-api.com/terms\", \"time_last_update_unix\": 1758153601, \"time_last_update_utc\": \"Thu, 18 Sep 2025 00:00:01 +0000\", \"time_next_update_unix\": 1758240001, \"time_next_update_utc\": \"Fri, 19 Sep 2025 00:00:01 +0000\", \"base_code\": \"USD\", \"target_code\": \"INR\", \"conversion_rate\": 87.861}', name='conv_fact', tool_call_id='a8ac2ef6-fa1a-4498-9f1f-6eb206063b76'),\n",
       " ToolMessage(content='4393.05', name='conv', tool_call_id='eb9b10b2-fcd4-4728-a463-5aa8788e65af')]"
      ]
     },
     "execution_count": 15,
     "metadata": {},
     "output_type": "execute_result"
    }
   ],
   "source": [
    "messages"
   ]
  },
  {
   "cell_type": "code",
   "execution_count": 16,
   "id": "d2d82f78-dd28-459b-bf28-59c9d6be8a5b",
   "metadata": {},
   "outputs": [],
   "source": [
    "res = llm_with_tools.invoke(messages)"
   ]
  },
  {
   "cell_type": "code",
   "execution_count": 18,
   "id": "2ac93be9-813a-4a1a-9ec9-58bf997c8e11",
   "metadata": {},
   "outputs": [
    {
     "data": {
      "text/plain": [
       "'The conversion factor between USD to INR is approximately 87.861 (as retrieved from the exchange rate API). \\n\\nBased on this, 50 USD converts to approximately 4393.05 INR. Please note that these values are based on the last update date of Thu, 18 Sep 2025 00:00:01 +0000 and will be subject to change as per the terms of use provided by the exchange rate API at https://www.exchangerate-api.com/terms.'"
      ]
     },
     "execution_count": 18,
     "metadata": {},
     "output_type": "execute_result"
    }
   ],
   "source": [
    "res.content"
   ]
  }
 ],
 "metadata": {
  "kernelspec": {
   "display_name": "Python 3 (ipykernel)",
   "language": "python",
   "name": "python3"
  },
  "language_info": {
   "codemirror_mode": {
    "name": "ipython",
    "version": 3
   },
   "file_extension": ".py",
   "mimetype": "text/x-python",
   "name": "python",
   "nbconvert_exporter": "python",
   "pygments_lexer": "ipython3",
   "version": "3.11.0"
  }
 },
 "nbformat": 4,
 "nbformat_minor": 5
}
