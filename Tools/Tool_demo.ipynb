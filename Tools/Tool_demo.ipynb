{
 "cells": [
  {
   "cell_type": "code",
   "execution_count": 56,
   "id": "c2e150ed-3c22-4942-8342-5d65b001aae2",
   "metadata": {},
   "outputs": [],
   "source": [
    "from langchain_core.tools import tool"
   ]
  },
  {
   "cell_type": "code",
   "execution_count": 57,
   "id": "caafe451-294e-4358-ba78-eb568a0a5c4c",
   "metadata": {},
   "outputs": [],
   "source": [
    "@tool \n",
    "def multiply(a:int,b:int)->int:\n",
    "    \"multiply of two numbers\"\n",
    "    return a*b"
   ]
  },
  {
   "cell_type": "code",
   "execution_count": 58,
   "id": "1e24f1bb-0b73-44e1-9d0e-c9eceb2fc39d",
   "metadata": {},
   "outputs": [],
   "source": [
    "from langchain_ollama import ChatOllama"
   ]
  },
  {
   "cell_type": "code",
   "execution_count": 61,
   "id": "28357375-c956-4f7f-a6da-beacdeb328a5",
   "metadata": {},
   "outputs": [],
   "source": [
    "model = ChatOllama(\n",
    "    model='llama3.1'\n",
    ")"
   ]
  },
  {
   "cell_type": "code",
   "execution_count": 62,
   "id": "0e9d4e79-8ffb-400e-9e5c-5597940d44a4",
   "metadata": {},
   "outputs": [],
   "source": [
    "chat_new = model.bind_tools([multiply])\n",
    "res = chat_new.invoke(\"multiply the numbers 2 by 3 \")"
   ]
  },
  {
   "cell_type": "code",
   "execution_count": 63,
   "id": "f2614463-b822-47cd-bf1e-68edde77ec5a",
   "metadata": {},
   "outputs": [
    {
     "data": {
      "text/plain": [
       "{'name': 'multiply',\n",
       " 'args': {'a': 2, 'b': 3},\n",
       " 'id': 'c7191851-9d72-496f-8a95-59abbaf8188d',\n",
       " 'type': 'tool_call'}"
      ]
     },
     "execution_count": 63,
     "metadata": {},
     "output_type": "execute_result"
    }
   ],
   "source": [
    "res.tool_calls[0]"
   ]
  },
  {
   "cell_type": "code",
   "execution_count": 64,
   "id": "19931cff-857e-47c3-bf81-09379ab9e2b6",
   "metadata": {},
   "outputs": [],
   "source": [
    "tool_msg = multiply.invoke(res.tool_calls[0])"
   ]
  },
  {
   "cell_type": "code",
   "execution_count": 65,
   "id": "5fc7155d-c0d0-419d-809d-9a25508de171",
   "metadata": {},
   "outputs": [
    {
     "data": {
      "text/plain": [
       "ToolMessage(content='6', name='multiply', tool_call_id='c7191851-9d72-496f-8a95-59abbaf8188d')"
      ]
     },
     "execution_count": 65,
     "metadata": {},
     "output_type": "execute_result"
    }
   ],
   "source": [
    "tool_msg"
   ]
  },
  {
   "cell_type": "code",
   "execution_count": 66,
   "id": "b80c5534-610e-4705-aa0c-36101246f8a5",
   "metadata": {},
   "outputs": [],
   "source": [
    "from langchain_core.messages import HumanMessage"
   ]
  },
  {
   "cell_type": "code",
   "execution_count": 67,
   "id": "105017df-aee4-4168-a683-427285d829ed",
   "metadata": {},
   "outputs": [],
   "source": [
    "query = HumanMessage('multiply the numbers 10 and 60')"
   ]
  },
  {
   "cell_type": "code",
   "execution_count": 68,
   "id": "c395252b-2946-4d88-8f68-c3eb081c0a0d",
   "metadata": {},
   "outputs": [
    {
     "data": {
      "text/plain": [
       "[HumanMessage(content='multiply the numbers 10 and 60', additional_kwargs={}, response_metadata={})]"
      ]
     },
     "execution_count": 68,
     "metadata": {},
     "output_type": "execute_result"
    }
   ],
   "source": [
    "msg = [query]\n",
    "msg"
   ]
  },
  {
   "cell_type": "code",
   "execution_count": 69,
   "id": "19a315cf-5396-49eb-95d7-0359b4ed1f88",
   "metadata": {},
   "outputs": [],
   "source": [
    "msg.append(res)"
   ]
  },
  {
   "cell_type": "code",
   "execution_count": 70,
   "id": "cb36666d-817f-4ee2-b65e-8e8204de9f6c",
   "metadata": {},
   "outputs": [
    {
     "data": {
      "text/plain": [
       "[HumanMessage(content='multiply the numbers 10 and 60', additional_kwargs={}, response_metadata={}),\n",
       " AIMessage(content='', additional_kwargs={}, response_metadata={'model': 'llama3.1', 'created_at': '2025-09-18T16:43:01.2601966Z', 'done': True, 'done_reason': 'stop', 'total_duration': 106057093000, 'load_duration': 66227245300, 'prompt_eval_count': 171, 'prompt_eval_duration': 33267502300, 'eval_count': 22, 'eval_duration': 6469192800, 'model_name': 'llama3.1'}, id='run--d7802419-953f-4974-9a83-390ba149b1d9-0', tool_calls=[{'name': 'multiply', 'args': {'a': 2, 'b': 3}, 'id': 'c7191851-9d72-496f-8a95-59abbaf8188d', 'type': 'tool_call'}], usage_metadata={'input_tokens': 171, 'output_tokens': 22, 'total_tokens': 193})]"
      ]
     },
     "execution_count": 70,
     "metadata": {},
     "output_type": "execute_result"
    }
   ],
   "source": [
    "msg"
   ]
  },
  {
   "cell_type": "code",
   "execution_count": 71,
   "id": "a58b9900-bc8d-48fa-b162-2c2f80df1730",
   "metadata": {},
   "outputs": [],
   "source": [
    "msg.append(tool_msg)"
   ]
  },
  {
   "cell_type": "code",
   "execution_count": 72,
   "id": "0a5a3bbb-e195-4d9d-9070-07c17200dcbf",
   "metadata": {},
   "outputs": [
    {
     "data": {
      "text/plain": [
       "[HumanMessage(content='multiply the numbers 10 and 60', additional_kwargs={}, response_metadata={}),\n",
       " AIMessage(content='', additional_kwargs={}, response_metadata={'model': 'llama3.1', 'created_at': '2025-09-18T16:43:01.2601966Z', 'done': True, 'done_reason': 'stop', 'total_duration': 106057093000, 'load_duration': 66227245300, 'prompt_eval_count': 171, 'prompt_eval_duration': 33267502300, 'eval_count': 22, 'eval_duration': 6469192800, 'model_name': 'llama3.1'}, id='run--d7802419-953f-4974-9a83-390ba149b1d9-0', tool_calls=[{'name': 'multiply', 'args': {'a': 2, 'b': 3}, 'id': 'c7191851-9d72-496f-8a95-59abbaf8188d', 'type': 'tool_call'}], usage_metadata={'input_tokens': 171, 'output_tokens': 22, 'total_tokens': 193}),\n",
       " ToolMessage(content='6', name='multiply', tool_call_id='c7191851-9d72-496f-8a95-59abbaf8188d')]"
      ]
     },
     "execution_count": 72,
     "metadata": {},
     "output_type": "execute_result"
    }
   ],
   "source": [
    "msg"
   ]
  },
  {
   "cell_type": "code",
   "execution_count": 73,
   "id": "18a7c381-cd16-4a7b-b889-baad28e8ecfc",
   "metadata": {},
   "outputs": [],
   "source": [
    "res= chat_new.invoke(msg)"
   ]
  },
  {
   "cell_type": "code",
   "execution_count": 74,
   "id": "a312a15e-c7e7-4902-89eb-7fd55a7febda",
   "metadata": {},
   "outputs": [
    {
     "data": {
      "text/plain": [
       "'The result of multiplying 10 and 60 is 600.'"
      ]
     },
     "execution_count": 74,
     "metadata": {},
     "output_type": "execute_result"
    }
   ],
   "source": [
    "res.content"
   ]
  }
 ],
 "metadata": {
  "kernelspec": {
   "display_name": "Python 3 (ipykernel)",
   "language": "python",
   "name": "python3"
  },
  "language_info": {
   "codemirror_mode": {
    "name": "ipython",
    "version": 3
   },
   "file_extension": ".py",
   "mimetype": "text/x-python",
   "name": "python",
   "nbconvert_exporter": "python",
   "pygments_lexer": "ipython3",
   "version": "3.11.0"
  }
 },
 "nbformat": 4,
 "nbformat_minor": 5
}
