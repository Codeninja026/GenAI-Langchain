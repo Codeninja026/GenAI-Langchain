{
 "cells": [
  {
   "cell_type": "markdown",
   "id": "60e1b4c6-38c6-4093-9c8a-12d4403d7eb0",
   "metadata": {},
   "source": [
    "#### MMR - Maximal Marginal Relevance"
   ]
  },
  {
   "cell_type": "code",
   "execution_count": 2,
   "id": "958ab5fa-5d95-41fa-8814-e1746f1a1b86",
   "metadata": {},
   "outputs": [],
   "source": [
    "from langchain.schema import Document"
   ]
  },
  {
   "cell_type": "code",
   "execution_count": 3,
   "id": "6f39f725-0859-4db1-aa5b-9947fe556ba0",
   "metadata": {},
   "outputs": [],
   "source": [
    "docs= [\n",
    "    Document(page_content='Virat Kohli is one of the greatest cricket captains.'),\n",
    "\n",
    "    Document(page_content='Virat Kohli leads RCB with excellent batting skills.'),\n",
    "    \n",
    "    Document(page_content='The Amazon rainforest is home to diverse wildlife.'),\n",
    "    \n",
    "    Document(page_content='Quantum computers can solve certain problems much faster'),\n",
    "    \n",
    "    Document(page_content='Italian cuisine is famous for pizza and pasta.')\n",
    "]"
   ]
  },
  {
   "cell_type": "code",
   "execution_count": 7,
   "id": "82db3b59-a404-44f7-8d46-1d5afab38848",
   "metadata": {},
   "outputs": [],
   "source": [
    "from langchain_community.vectorstores import FAISS\n",
    "from langchain_huggingface import HuggingFaceEmbeddings"
   ]
  },
  {
   "cell_type": "code",
   "execution_count": 10,
   "id": "e50cbf8d-4933-43ca-9e2c-a76343516c66",
   "metadata": {},
   "outputs": [],
   "source": [
    "vs = FAISS.from_documents(\n",
    "    documents=docs,\n",
    "    embedding = HuggingFaceEmbeddings(model_name='all-MiniLM-L6-v2')\n",
    ")"
   ]
  },
  {
   "cell_type": "code",
   "execution_count": 25,
   "id": "80875477-2f2c-4b22-8aec-9452fcca8272",
   "metadata": {},
   "outputs": [],
   "source": [
    "ret= vs.as_retriever(\n",
    "    search_type = 'mmr',\n",
    "    search_kwargs = {'k':2,'lambda_mult':0}\n",
    "    # zero means more diverse results \n",
    "    # one means normal similarity search \n",
    "    # we have choose 0 to 1 between \n",
    ")"
   ]
  },
  {
   "cell_type": "code",
   "execution_count": 26,
   "id": "7033d423-c00e-4d3c-9dde-1c0b5b777832",
   "metadata": {},
   "outputs": [],
   "source": [
    "query = 'who is virat kohli?'\n",
    "res = ret.invoke(query)"
   ]
  },
  {
   "cell_type": "code",
   "execution_count": 28,
   "id": "db9bc48d-85df-4740-8b1b-da90b9ee04bf",
   "metadata": {},
   "outputs": [
    {
     "name": "stdout",
     "output_type": "stream",
     "text": [
      "Result 1----\n",
      "Virat Kohli is one of the greatest cricket captains.\n",
      "\n",
      "Result 2----\n",
      "Quantum computers can solve certain problems much faster\n",
      "\n"
     ]
    }
   ],
   "source": [
    "for i,r in enumerate(res):\n",
    "    print(f\"Result {i+1}----\")\n",
    "    print(r.page_content)\n",
    "    print()"
   ]
  },
  {
   "cell_type": "code",
   "execution_count": null,
   "id": "c0de8c77-4b7e-4e1e-b2b3-d449de27e90a",
   "metadata": {},
   "outputs": [],
   "source": []
  }
 ],
 "metadata": {
  "kernelspec": {
   "display_name": "Python 3 (ipykernel)",
   "language": "python",
   "name": "python3"
  },
  "language_info": {
   "codemirror_mode": {
    "name": "ipython",
    "version": 3
   },
   "file_extension": ".py",
   "mimetype": "text/x-python",
   "name": "python",
   "nbconvert_exporter": "python",
   "pygments_lexer": "ipython3",
   "version": "3.11.0"
  }
 },
 "nbformat": 4,
 "nbformat_minor": 5
}
