{
 "cells": [
  {
   "cell_type": "code",
   "execution_count": 12,
   "id": "19811a96-8b52-4b1f-a16f-ecaa2aec06fb",
   "metadata": {},
   "outputs": [],
   "source": [
    "from langchain_chroma import Chroma\n",
    "from langchain.schema import Document\n",
    "from langchain_community.embeddings import HuggingFaceEmbeddings"
   ]
  },
  {
   "cell_type": "code",
   "execution_count": 13,
   "id": "3be8f3a3-5c7f-4ff5-9583-4c7a2d56930e",
   "metadata": {},
   "outputs": [],
   "source": [
    "\n",
    "doc1 = Document(\n",
    "    page_content='''\n",
    "    Virat Kohli – Known as the “Run Machine,” \n",
    "    Virat is one of the most consistent batsmen in the world, \n",
    "    admired for his aggressive batting style and match-winning performances across formats.''',\n",
    "    metadata={'team': 'RCB'}\n",
    ")\n",
    "\n",
    "doc2 = Document(\n",
    "    page_content='''\n",
    "    Rohit Sharma – The “Hitman” of Indian cricket, \n",
    "    Rohit is famous for his elegant batting, ability to score big hundreds, \n",
    "    and holding the record for the highest individual ODI score (264).''',\n",
    "    metadata={'team': 'MI'}\n",
    ")\n",
    "\n",
    "doc3 = Document(\n",
    "    page_content='''\n",
    "    Jasprit Bumrah – A world-class fast bowler with a unique action, \n",
    "    Bumrah is known for his deadly yorkers, pinpoint accuracy, \n",
    "    and match-winning spells in all formats.''',\n",
    "    metadata={'team': 'MI'}\n",
    ")\n",
    "\n",
    "doc4 = Document(\n",
    "    page_content='''\n",
    "    Ravindra Jadeja – A true all-rounder, \n",
    "    Jadeja is valued for his explosive batting, accurate left-arm spin bowling, \n",
    "    and exceptional fielding skills.''',\n",
    "    metadata={'team': 'CSK'}\n",
    ")\n"
   ]
  },
  {
   "cell_type": "code",
   "execution_count": 15,
   "id": "4e6ad9c6-8c9a-4f0e-9bfb-f686c318dade",
   "metadata": {},
   "outputs": [],
   "source": [
    "docs =[doc1,doc2,doc3,doc4]"
   ]
  },
  {
   "cell_type": "code",
   "execution_count": 14,
   "id": "efc0f1b3-3130-4500-a25d-b4cade83e520",
   "metadata": {},
   "outputs": [],
   "source": [
    "vs = Chroma(\n",
    "    embedding_function= HuggingFaceEmbeddings(model_name=\"all-MiniLM-L6-v2\"),\n",
    "    #directory to store\n",
    "    persist_directory = 'chroma-db-created-for_vec_st_retrieval',\n",
    "    collection_name='cricket'\n",
    ")"
   ]
  },
  {
   "cell_type": "code",
   "execution_count": 16,
   "id": "1dabb32f-ad34-4259-a2d3-f67dec17bf02",
   "metadata": {},
   "outputs": [
    {
     "data": {
      "text/plain": [
       "['17eeadfa-ede7-4237-bbc8-af1eadee4880',\n",
       " 'e551ed41-639f-4b2d-a6de-d748c278611a',\n",
       " '79ab3b05-0e7d-4ff4-bca1-0bbe960dc472',\n",
       " '1736b3b5-339d-49f2-af37-6ec397c78f5b']"
      ]
     },
     "execution_count": 16,
     "metadata": {},
     "output_type": "execute_result"
    }
   ],
   "source": [
    "vs.add_documents(docs)"
   ]
  },
  {
   "cell_type": "code",
   "execution_count": 18,
   "id": "9b76d603-d0b2-4330-9f4c-decd4743e9cd",
   "metadata": {},
   "outputs": [],
   "source": [
    "#convert vectorstore into retriever\n",
    "ret = vs.as_retriever(search_kwargs={'k':2})"
   ]
  },
  {
   "cell_type": "code",
   "execution_count": 19,
   "id": "28858b96-22e1-47d5-b692-8a58bbaa9a63",
   "metadata": {},
   "outputs": [],
   "source": [
    "query = \"who is all rounder from the document given\"\n",
    "res = ret.invoke(query)"
   ]
  },
  {
   "cell_type": "code",
   "execution_count": 23,
   "id": "4033c26b-f919-463e-9560-62e13938d9b4",
   "metadata": {},
   "outputs": [
    {
     "name": "stdout",
     "output_type": "stream",
     "text": [
      "\n",
      "    Ravindra Jadeja – A true all-rounder, \n",
      "    Jadeja is valued for his explosive batting, accurate left-arm spin bowling, \n",
      "    and exceptional fielding skills.\n",
      "\n",
      "    Virat Kohli – Known as the “Run Machine,” \n",
      "    Virat is one of the most consistent batsmen in the world, \n",
      "    admired for his aggressive batting style and match-winning performances across formats.\n"
     ]
    }
   ],
   "source": [
    "for i,doc in enumerate(res):\n",
    "    print(doc.page_content)"
   ]
  },
  {
   "cell_type": "code",
   "execution_count": null,
   "id": "601328b5-97de-4ffc-bbb9-0c5db44f0d7e",
   "metadata": {},
   "outputs": [],
   "source": []
  }
 ],
 "metadata": {
  "kernelspec": {
   "display_name": "Python 3 (ipykernel)",
   "language": "python",
   "name": "python3"
  },
  "language_info": {
   "codemirror_mode": {
    "name": "ipython",
    "version": 3
   },
   "file_extension": ".py",
   "mimetype": "text/x-python",
   "name": "python",
   "nbconvert_exporter": "python",
   "pygments_lexer": "ipython3",
   "version": "3.11.0"
  }
 },
 "nbformat": 4,
 "nbformat_minor": 5
}
