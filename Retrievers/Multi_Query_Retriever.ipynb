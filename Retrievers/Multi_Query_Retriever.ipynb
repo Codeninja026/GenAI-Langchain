{
 "cells": [
  {
   "cell_type": "code",
   "execution_count": 2,
   "id": "59e6d176-c02a-48cb-90d3-e2f3a166bd56",
   "metadata": {},
   "outputs": [],
   "source": [
    "from langchain_huggingface import HuggingFaceEmbeddings\n",
    "from langchain_community.vectorstores import FAISS\n",
    "from langchain.schema import Document"
   ]
  },
  {
   "cell_type": "code",
   "execution_count": 6,
   "id": "4940d58a-1e88-4f92-92ce-11c101aac102",
   "metadata": {},
   "outputs": [],
   "source": [
    "\n",
    "docs = [\n",
    "    Document(\n",
    "        page_content=\"Virat Kohli is the captain of RCB and a top international batsman.\",\n",
    "        metadata={\"player\": \"Virat Kohli\"}\n",
    "    ),\n",
    "    Document(\n",
    "        page_content=\"Virat Kohli is famous for chasing big targets and consistent centuries.\",\n",
    "        metadata={\"player\": \"Virat Kohli\"}\n",
    "    ),\n",
    "    Document(\n",
    "        page_content=\"Virat Kohli has won numerous awards including ICC Cricketer of the Year.\",\n",
    "        metadata={\"player\": \"Virat Kohli\"}\n",
    "    ),\n",
    "    Document(\n",
    "        page_content=\"Chris Gayle is a powerful T20 opener from West Indies, known as the Universe Boss.\",\n",
    "        metadata={\"player\": \"Chris Gayle\"}\n",
    "    ),\n",
    "    Document(\n",
    "        page_content=\"Chris Gayle holds records for fastest centuries and most sixes in T20 cricket.\",\n",
    "        metadata={\"player\": \"Chris Gayle\"}\n",
    "    )\n",
    "]\n"
   ]
  },
  {
   "cell_type": "code",
   "execution_count": 7,
   "id": "dcc73df8-de0e-4c60-97b6-a7720bc28508",
   "metadata": {},
   "outputs": [],
   "source": [
    "from langchain.retrievers.multi_query import MultiQueryRetriever"
   ]
  },
  {
   "cell_type": "code",
   "execution_count": 8,
   "id": "9c24f396-1d9d-4b84-bbb6-6b902babe531",
   "metadata": {},
   "outputs": [],
   "source": [
    "emb_model = HuggingFaceEmbeddings(model_name='all-MiniLM-L6-v2')"
   ]
  },
  {
   "cell_type": "code",
   "execution_count": 10,
   "id": "e8f5712e-11d0-47f6-8bac-2ce4e6d4596c",
   "metadata": {},
   "outputs": [],
   "source": [
    "vs = FAISS.from_documents(\n",
    "            documents=docs,\n",
    "            embedding=emb_model\n",
    ")"
   ]
  },
  {
   "cell_type": "code",
   "execution_count": 11,
   "id": "b23d006d-074a-4446-88b3-60c11026946d",
   "metadata": {},
   "outputs": [],
   "source": [
    "from langchain_ollama import ChatOllama"
   ]
  },
  {
   "cell_type": "code",
   "execution_count": 12,
   "id": "1f2e3a95-e366-4f61-8b33-63ca9253bb1c",
   "metadata": {},
   "outputs": [],
   "source": [
    "llm = ChatOllama(\n",
    "    model = 'llama3'\n",
    ")"
   ]
  },
  {
   "cell_type": "code",
   "execution_count": 16,
   "id": "9b670efd-5f08-4ee3-a52d-01042efcbfa4",
   "metadata": {},
   "outputs": [],
   "source": [
    "multi_que_ret =  MultiQueryRetriever.from_llm(\n",
    "    retriever=vs.as_retriever(serach_kwargs = {'k':5}),\n",
    "    llm = llm\n",
    ")"
   ]
  },
  {
   "cell_type": "code",
   "execution_count": 17,
   "id": "53a0c2c9-f0ed-41f8-84b5-b650778123fd",
   "metadata": {},
   "outputs": [],
   "source": [
    "query= '\"Who is the most destructive batsman in this dataset?\"'"
   ]
  },
  {
   "cell_type": "code",
   "execution_count": 18,
   "id": "b55c7ba0-9655-4427-bc26-ff96a86cb430",
   "metadata": {},
   "outputs": [],
   "source": [
    "mqr_res = multi_que_ret.invoke(query)"
   ]
  },
  {
   "cell_type": "code",
   "execution_count": 19,
   "id": "1a681b8c-d7d4-4fa1-a290-5ae11d6c22c5",
   "metadata": {},
   "outputs": [
    {
     "name": "stdout",
     "output_type": "stream",
     "text": [
      "Result 1 ----\n",
      "Virat Kohli is the captain of RCB and a top international batsman.\n",
      "Result 2 ----\n",
      "Chris Gayle is a powerful T20 opener from West Indies, known as the Universe Boss.\n",
      "Result 3 ----\n",
      "Virat Kohli is famous for chasing big targets and consistent centuries.\n",
      "Result 4 ----\n",
      "Chris Gayle holds records for fastest centuries and most sixes in T20 cricket.\n",
      "Result 5 ----\n",
      "Virat Kohli has won numerous awards including ICC Cricketer of the Year.\n"
     ]
    }
   ],
   "source": [
    "for i,r in enumerate(mqr_res):\n",
    "    print(f\"Result {i+1} ----\")\n",
    "    print(r.page_content)"
   ]
  },
  {
   "cell_type": "code",
   "execution_count": null,
   "id": "ad0389fc-82e5-4dc1-997f-c9793521e67e",
   "metadata": {},
   "outputs": [],
   "source": []
  }
 ],
 "metadata": {
  "kernelspec": {
   "display_name": "Python 3 (ipykernel)",
   "language": "python",
   "name": "python3"
  },
  "language_info": {
   "codemirror_mode": {
    "name": "ipython",
    "version": 3
   },
   "file_extension": ".py",
   "mimetype": "text/x-python",
   "name": "python",
   "nbconvert_exporter": "python",
   "pygments_lexer": "ipython3",
   "version": "3.11.0"
  }
 },
 "nbformat": 4,
 "nbformat_minor": 5
}
