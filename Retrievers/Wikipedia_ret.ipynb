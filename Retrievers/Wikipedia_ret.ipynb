{
 "cells": [
  {
   "cell_type": "code",
   "execution_count": 2,
   "id": "597a2a8d-d439-47df-9896-c65a652a1f03",
   "metadata": {},
   "outputs": [],
   "source": [
    "from langchain_community.retrievers import WikipediaRetriever"
   ]
  },
  {
   "cell_type": "code",
   "execution_count": 3,
   "id": "920e8f04-4552-45ad-903a-67857730cc53",
   "metadata": {},
   "outputs": [],
   "source": [
    "ret = WikipediaRetriever(top_k_results=2,lang='en')"
   ]
  },
  {
   "cell_type": "code",
   "execution_count": 8,
   "id": "000dd567-49da-4d89-88d7-a017c36fe381",
   "metadata": {},
   "outputs": [],
   "source": [
    "query = \"Virat Kohli\""
   ]
  },
  {
   "cell_type": "code",
   "execution_count": 9,
   "id": "aed2c569-d649-430e-886f-d93509a6f458",
   "metadata": {},
   "outputs": [],
   "source": [
    "docs = ret.invoke(query)"
   ]
  },
  {
   "cell_type": "code",
   "execution_count": 10,
   "id": "671bcc59-47f5-4135-94b6-8934f0bab500",
   "metadata": {},
   "outputs": [
    {
     "name": "stdout",
     "output_type": "stream",
     "text": [
      "result 1 ---> \n",
      "Content: Virat Kohli (Hindi pronunciation: [ʋɪˈɾaːʈᵊ ˈkoːɦᵊliː] , born 5 November 1988) is an Indian international cricketer and the former captain of the Indian national cricket team. He is a right-handed batsman and an occasional medium-pace bowler. He currently represents Royal Challengers Bengaluru in the IPL and Delhi in domestic cricket.  Kohli is widely regarded as one of the greatest limited overs batters of all time. He also holds the record for scoring the most centuries in ODI cricket and stands second in the list of most international centuries scored, and is highest run-scorer in IPL. Kohli was a member of the Indian team that won the 2011 Cricket World Cup, 2013 ICC Champions Trophy, 2024 T20 World Cup and 2025 Champions Trophy. Further captained India to win the ICC Test mace three consecutive times in 2017, 2018, and 2019.\n",
      "In 2013, Kohli was ranked number one in the ICC rankings for ODI batsmen. In 2015, he achieved the summit of T20I rankings. In 2020, the International Cricket Council named him the male cricketer of the decade.\n",
      "Kohli has received many accolades for his performances in cricket. He won the ICC ODI Player of the Year award four times in 2012, 2017, 2018, and 2023. He also won the Sir Garfield Sobers Trophy, given to the ICC Cricketer of the Year, on two occasions, in 2017 and 2018 respectively. In 2018, he became the first player to win both ICC ODI and Test Player of the Year awards in the same year. Also, he was named the Wisden Leading Cricketer in the World for three consecutive years, from 2016 to 2018. At the national level, Kohli was honoured with the Arjuna Award in 2013, the Padma Shri in 2017, and India's highest sporting honour, the Khel Ratna award, in 2018.\n",
      "In 2018, Time magazine included him on its list of the 100 most influential people in the world. Kohli has been deemed one of the most commercially viable athletes, with estimated earnings of ₹634 crore (US$75 million) in the year 2022.\n",
      "\n",
      "\n",
      "== Early life ==\n",
      "Kohli was born on 5 November 1988 in Delhi into a Punjabi Hindu family. His mother Saroj Kohli is as a housewife while his father Prem Nath Kohli worked as a criminal lawyer. He has an elder brother Vikas and an elder sister Bhawna. His formative years were spent in Uttam Nagar. His early education was at Vishal Bharti Public School. As per his family, Kohli exhibited an early affinity for cricket as a 3-year-old. He would pick up a bat and request his father bowl to him. In 1998, the West Delhi Cricket Academy was created. In May, his father arranged for him to meet Rajkumar Sharma. Upon the suggestion of their neighbours, Kohli's father considered enrolling his son in a professional cricket academy, as they believed his ability merited more than gully cricket. He was unable to secure a place in the U-14 Delhi team, due to extraneous factors. His father reportedly received offers to relocate his son to influential clubs, which would ensure his selection, but he declined the proposals. Kohli eventually found his way into the U-15 team. He received training at the academy and participated in matches at the Sumeet Dogra Academy located at Vasundhara Enclave. In pursuit of furthering his cricketing career, he transferred to Saviour Convent School during his ninth-grade education. On 18 December 2006, his father died due to a cerebral attack. As per his mother, Kohli's demeanour shifted noticeably after his father's death. He took on cricket with newfound seriousness, prioritizing playing time and dedicating himself fully to the sport. Kohli's family resided in Meera Bagh, Paschim Vihar until the year 2015, after which they relocated to Gurgaon.\n",
      "\n",
      "\n",
      "== Youth career ==\n",
      "\n",
      "\n",
      "=== Delhi team ===\n",
      "Kohli's junior cricket career kicked off in October 2002 at the Luhnu Cricket Ground against Himachal Pradesh. His first half-century in domestic cricket happened at Feroze Shah Kotla, where he scored 70 runs against Haryana. By the end of the season, he had amassed a total of 172 runs, emerging as the highes\n",
      "result 2 ---> \n",
      "Content: Virat Kohli's senior career began when he made his debut in List A cricket, playing against Services in the Ranji One-Day Trophy, but he did not have the opportunity to bat during the match. On the international stage, he has been representing India since he was included in the ODl squad for the tour of Sri Lanka. Kohli was part of the team during India won the 2011 Cricket World Cup, the 2013 ICC Champions Trophy, the 2024 ICC T20 World Cup and 2025 ICC Champions Trophy alongside several Asia Cups. He had previously led his side to the 2008 Under-19 Cricket World Cup title. In league cricket, Kohli has played for the Royal Challengers Bengaluru since the inception of the team in 2008 and was part of the team that won the 2025 season.\n",
      "\n",
      "\n",
      "== International career ==\n",
      "\n",
      "\n",
      "=== 2008–2009: Debut and maiden stint ===\n",
      "In August 2008, Kohli was included in the ODl squad for the tour of Sri Lanka and the Champions Trophy in Pakistan. Prior to the Sri Lankan tour, Kohli had limited experience, with only eight List A matches under his belt. So, his selection was considered a \"surprise call-up\". During the Sri Lankan tour, as both first-choice openers Sachin Tendulkar and Virender Sehwag, were unable to play due to injury, Kohli was required to fill the role of makeshift opener throughout the series. On August 18, 2008, Kohli made his international debut at the age of 19 in the first ODI of the tour, where he was dismissed for 12 runs, caught dead in front by an incutter from Nuwan Kulasekara. However, in the fourth match of the series, Kohli scored his maiden half century in the ODl format, with a total of fifty-four runs scored.\n",
      "Following the postponement of the Champions Trophy to 2009, Kohli was picked as a replacement for the injured Shikhar Dhawan in the India A squad for the unofficial Tests against Australia A in September 2008. Despite limited opportunities, he managed to make an impact in the single innings that he participated in, scoring 49 runs. In October 2008, Kohli participated in a four-day tour match against Australia as part of the Indian Board President's XI team. The match featured a formidable Australian bowling line-up that consisted of Brett Lee, Stuart Clark, Mitchell Johnson, Peter Siddle and Jason Krejza. Despite this, Kohli displayed his batting prowess by scoring 105 runs in the first innings and an unbeaten 16 runs in the second innings, demonstrating his ability to perform against high-level international competition.\n",
      "In November 2008, Kohli was selected for inclusion in the squad for the home ODI series against England. However, he was not given an opportunity to play in any of the matches. In December 2008, Kohli was awarded a Grade D contract by the Board of Control for Cricket in India (BCCI) as part of the annual contract list for the Indian national team which entitled him to receive ₹1.5 million (equivalent to ₹4.2 million or US$49,000 in 2023). Despite being awarded a contract, in January, Kohli was dropped for the five-match ODl series against Sri Lanka in Sri Lanka.\n",
      "In July–August 2009, Kohli was selected in the four-team Emerging Players Tournament, held in Australia. He was selected to open the innings for the Indian Emerging Players team in the tournament, and he went on to have a standout performance. Kohli finished as the tournament's leading run-scorer, with a total of 398 runs from seven matches, at an average of 66.33. He was particularly impressive in the final match, where he scored 104 runs off 102 balls against the South Africa Emerging Players team in Brisbane. His strong performance helped lead his team to a 17-run victory and the tournament title. At the conclusion of the tournament, Kris Srikkanth, the chairman of the Indian national selection committee, expressed his admiration for Kohli's performance during the tournament. Kohli later stated that this tournament was a \"turning point\" in his career.\n",
      "In August 2009, Kohli returned to the national team after recovering from a minor should\n"
     ]
    }
   ],
   "source": [
    "for i,doc in enumerate(docs):\n",
    "    print(f\"result {i+1} ---> \")\n",
    "    print(f\"Content: {doc.page_content}\")"
   ]
  },
  {
   "cell_type": "code",
   "execution_count": 15,
   "id": "5ab390e1-817d-459f-abc6-703476d9f78c",
   "metadata": {},
   "outputs": [
    {
     "data": {
      "text/plain": [
       "\"Virat Kohli (Hindi pronunciation: [ʋɪˈɾaːʈᵊ ˈkoːɦᵊliː] , born 5 November 1988) is an Indian international cricketer and the former captain of the Indian national cricket team. He is a right-handed batsman and an occasional medium-pace bowler. He currently represents Royal Challengers Bengaluru in the IPL and Delhi in domestic cricket.  Kohli is widely regarded as one of the greatest limited overs batters of all time. He also holds the record for scoring the most centuries in ODI cricket and stands second in the list of most international centuries scored, and is highest run-scorer in IPL. Kohli was a member of the Indian team that won the 2011 Cricket World Cup, 2013 ICC Champions Trophy, 2024 T20 World Cup and 2025 Champions Trophy. Further captained India to win the ICC Test mace three consecutive times in 2017, 2018, and 2019.\\nIn 2013, Kohli was ranked number one in the ICC rankings for ODI batsmen. In 2015, he achieved the summit of T20I rankings. In 2020, the International Cricket Council named him the male cricketer of the decade.\\nKohli has received many accolades for his performances in cricket. He won the ICC ODI Player of the Year award four times in 2012, 2017, 2018, and 2023. He also won the Sir Garfield Sobers Trophy, given to the ICC Cricketer of the Year, on two occasions, in 2017 and 2018 respectively. In 2018, he became the first player to win both ICC ODI and Test Player of the Year awards in the same year. Also, he was named the Wisden Leading Cricketer in the World for three consecutive years, from 2016 to 2018. At the national level, Kohli was honoured with the Arjuna Award in 2013, the Padma Shri in 2017, and India's highest sporting honour, the Khel Ratna award, in 2018.\\nIn 2018, Time magazine included him on its list of the 100 most influential people in the world. Kohli has been deemed one of the most commercially viable athletes, with estimated earnings of ₹634 crore (US$75 million) in the year 2022.\\n\\n\\n== Early life ==\\nKohli was born on 5 November 1988 in Delhi into a Punjabi Hindu family. His mother Saroj Kohli is as a housewife while his father Prem Nath Kohli worked as a criminal lawyer. He has an elder brother Vikas and an elder sister Bhawna. His formative years were spent in Uttam Nagar. His early education was at Vishal Bharti Public School. As per his family, Kohli exhibited an early affinity for cricket as a 3-year-old. He would pick up a bat and request his father bowl to him. In 1998, the West Delhi Cricket Academy was created. In May, his father arranged for him to meet Rajkumar Sharma. Upon the suggestion of their neighbours, Kohli's father considered enrolling his son in a professional cricket academy, as they believed his ability merited more than gully cricket. He was unable to secure a place in the U-14 Delhi team, due to extraneous factors. His father reportedly received offers to relocate his son to influential clubs, which would ensure his selection, but he declined the proposals. Kohli eventually found his way into the U-15 team. He received training at the academy and participated in matches at the Sumeet Dogra Academy located at Vasundhara Enclave. In pursuit of furthering his cricketing career, he transferred to Saviour Convent School during his ninth-grade education. On 18 December 2006, his father died due to a cerebral attack. As per his mother, Kohli's demeanour shifted noticeably after his father's death. He took on cricket with newfound seriousness, prioritizing playing time and dedicating himself fully to the sport. Kohli's family resided in Meera Bagh, Paschim Vihar until the year 2015, after which they relocated to Gurgaon.\\n\\n\\n== Youth career ==\\n\\n\\n=== Delhi team ===\\nKohli's junior cricket career kicked off in October 2002 at the Luhnu Cricket Ground against Himachal Pradesh. His first half-century in domestic cricket happened at Feroze Shah Kotla, where he scored 70 runs against Haryana. By the end of the season, he had amassed a total of 172 runs, emerging as the highes\""
      ]
     },
     "execution_count": 15,
     "metadata": {},
     "output_type": "execute_result"
    }
   ],
   "source": [
    "docs[0].page_content"
   ]
  },
  {
   "cell_type": "code",
   "execution_count": null,
   "id": "c5de7cda-5276-4e2d-a101-f7405326c3a9",
   "metadata": {},
   "outputs": [],
   "source": []
  }
 ],
 "metadata": {
  "kernelspec": {
   "display_name": "Python 3 (ipykernel)",
   "language": "python",
   "name": "python3"
  },
  "language_info": {
   "codemirror_mode": {
    "name": "ipython",
    "version": 3
   },
   "file_extension": ".py",
   "mimetype": "text/x-python",
   "name": "python",
   "nbconvert_exporter": "python",
   "pygments_lexer": "ipython3",
   "version": "3.11.0"
  }
 },
 "nbformat": 4,
 "nbformat_minor": 5
}
