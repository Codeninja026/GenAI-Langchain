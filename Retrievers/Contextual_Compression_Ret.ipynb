{
 "cells": [
  {
   "cell_type": "code",
   "execution_count": 3,
   "id": "4a5c0403-d147-41aa-a1b3-fb177c1517ca",
   "metadata": {},
   "outputs": [],
   "source": [
    "from langchain_huggingface import HuggingFaceEmbeddings"
   ]
  },
  {
   "cell_type": "code",
   "execution_count": 4,
   "id": "5f013e3a-6d8c-4d03-b9fe-58bdb9c1f85e",
   "metadata": {},
   "outputs": [],
   "source": [
    "from langchain.schema import Document"
   ]
  },
  {
   "cell_type": "code",
   "execution_count": 6,
   "id": "c6c57cb2-4cd4-4d1b-8139-3a77c4ba3f56",
   "metadata": {},
   "outputs": [],
   "source": [
    "docs = [\n",
    "    # Cricket\n",
    "    Document(page_content=\"Virat Kohli is the captain of RCB and a top international batsman.\", metadata={\"topic\": \"cricket\"}),\n",
    "    Document(page_content=\"Chris Gayle holds records for fastest centuries and most sixes in T20 cricket.\", metadata={\"topic\": \"cricket\"}),\n",
    "\n",
    "    # Technology\n",
    "    Document(page_content=\"Python is a popular programming language for data science and machine learning.\", metadata={\"topic\": \"technology\"}),\n",
    "    Document(page_content=\"FAISS is a library for efficient similarity search and clustering of dense vectors.\", metadata={\"topic\": \"technology\"}),\n",
    "\n",
    "    # Space\n",
    "    Document(page_content=\"The James Webb Space Telescope can observe galaxies formed over 13 billion years ago.\", metadata={\"topic\": \"space\"}),\n",
    "    Document(page_content=\"Mars has two moons named Phobos and Deimos.\", metadata={\"topic\": \"space\"}),\n",
    "\n",
    "    # Cooking\n",
    "    Document(page_content=\"Pasta carbonara is an Italian dish made with eggs, cheese, pancetta, and pepper.\", metadata={\"topic\": \"cooking\"}),\n",
    "    Document(page_content=\"Sourdough bread uses natural yeast and bacteria for fermentation.\", metadata={\"topic\": \"cooking\"})\n",
    "]\n"
   ]
  },
  {
   "cell_type": "code",
   "execution_count": 7,
   "id": "1285a56d-7eed-458a-a0c2-fe25a6488881",
   "metadata": {},
   "outputs": [],
   "source": [
    "query = '\"Which technology helps in finding similar documents efficiently?\"'"
   ]
  },
  {
   "cell_type": "code",
   "execution_count": 8,
   "id": "822e39b6-5031-484c-aad4-62266e1759ee",
   "metadata": {},
   "outputs": [],
   "source": [
    "from langchain_community.vectorstores import FAISS\n",
    "from langchain.retrievers.contextual_compression import ContextualCompressionRetriever\n",
    "from langchain.retrievers.document_compressors import LLMChainExtractor"
   ]
  },
  {
   "cell_type": "code",
   "execution_count": 11,
   "id": "ba8fbc77-09aa-425d-bef7-89a07e3347b4",
   "metadata": {},
   "outputs": [],
   "source": [
    "vs = FAISS.from_documents(\n",
    "    documents=docs,\n",
    "    embedding = HuggingFaceEmbeddings(model_name='all-MiniLM-L6-v2')\n",
    "    \n",
    ")"
   ]
  },
  {
   "cell_type": "code",
   "execution_count": 12,
   "id": "d5bd9de8-03cf-4863-a17d-7b14075a034b",
   "metadata": {},
   "outputs": [],
   "source": [
    "ret = vs.as_retriever(search_kwargs={'k':5})"
   ]
  },
  {
   "cell_type": "code",
   "execution_count": 13,
   "id": "1a47d7b7-1687-4ee6-b7ba-d3c4bec74141",
   "metadata": {},
   "outputs": [],
   "source": [
    "from langchain_ollama import ChatOllama"
   ]
  },
  {
   "cell_type": "code",
   "execution_count": 14,
   "id": "0b6e1504-57b6-42e1-a67f-370b597bec65",
   "metadata": {},
   "outputs": [],
   "source": [
    "model = ChatOllama(\n",
    "    model='llama3'\n",
    ")"
   ]
  },
  {
   "cell_type": "code",
   "execution_count": 15,
   "id": "ede63fd3-0c18-4aac-8e24-c02c21e3e2f2",
   "metadata": {},
   "outputs": [],
   "source": [
    "compressor = LLMChainExtractor.from_llm(model)"
   ]
  },
  {
   "cell_type": "code",
   "execution_count": 17,
   "id": "3c9829d4-fef9-4c8c-9f10-d73af52f011b",
   "metadata": {},
   "outputs": [],
   "source": [
    "compression_ret = ContextualCompressionRetriever(\n",
    "    base_retriever=ret,\n",
    "    base_compressor=compressor\n",
    ")"
   ]
  },
  {
   "cell_type": "code",
   "execution_count": 18,
   "id": "8ccc096c-0e55-4cf2-8550-8ddb33cb23f1",
   "metadata": {},
   "outputs": [],
   "source": [
    "com_res = compression_ret.invoke(query)"
   ]
  },
  {
   "cell_type": "code",
   "execution_count": 19,
   "id": "df356660-4f20-414a-b348-4e843471c586",
   "metadata": {},
   "outputs": [
    {
     "name": "stdout",
     "output_type": "stream",
     "text": [
      "Result 1 -------\n",
      "Extracted relevant parts:\n",
      "\n",
      "FAISS is a library for efficient similarity search and clustering of dense vectors.\n",
      "\n",
      "These extracted parts are directly relevant to the question about finding similar documents efficiently.\n",
      "Result 2 -------\n",
      "NO_OUTPUT. None of the provided context is relevant to answering the question about a technology that helps find similar documents efficiently. The context appears to be discussing the James Webb Space Telescope, which has no relation to document searching or technology for finding similar documents.\n"
     ]
    }
   ],
   "source": [
    "for i,r in enumerate(com_res):\n",
    "    print(f\"Result {i+1} -------\")\n",
    "    print(r.page_content)"
   ]
  },
  {
   "cell_type": "code",
   "execution_count": null,
   "id": "40153c8c-8416-494f-8bd0-0e2809e88724",
   "metadata": {},
   "outputs": [],
   "source": []
  }
 ],
 "metadata": {
  "kernelspec": {
   "display_name": "Python 3 (ipykernel)",
   "language": "python",
   "name": "python3"
  },
  "language_info": {
   "codemirror_mode": {
    "name": "ipython",
    "version": 3
   },
   "file_extension": ".py",
   "mimetype": "text/x-python",
   "name": "python",
   "nbconvert_exporter": "python",
   "pygments_lexer": "ipython3",
   "version": "3.11.0"
  }
 },
 "nbformat": 4,
 "nbformat_minor": 5
}
